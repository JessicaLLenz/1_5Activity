{
 "cells": [
  {
   "cell_type": "code",
   "execution_count": 1,
   "id": "55c271c1-01dd-41ee-bf41-6fc455ffc470",
   "metadata": {},
   "outputs": [],
   "source": [
    "import polars as pl\n",
    "import requests\n",
    "from zipfile import ZipFile\n",
    "from glob import glob"
   ]
  },
  {
   "cell_type": "code",
   "execution_count": 2,
   "id": "ae1b2ce3-6412-4a41-80fc-d1d3e1760738",
   "metadata": {},
   "outputs": [
    {
     "name": "stdout",
     "output_type": "stream",
     "text": [
      "Collecting wget\n",
      "  Downloading wget-3.2.zip (10 kB)\n",
      "  Installing build dependencies: started\n",
      "  Installing build dependencies: finished with status 'done'\n",
      "  Getting requirements to build wheel: started\n",
      "  Getting requirements to build wheel: finished with status 'done'\n",
      "  Preparing metadata (pyproject.toml): started\n",
      "  Preparing metadata (pyproject.toml): finished with status 'done'\n",
      "Building wheels for collected packages: wget\n",
      "  Building wheel for wget (pyproject.toml): started\n",
      "  Building wheel for wget (pyproject.toml): finished with status 'done'\n",
      "  Created wheel for wget: filename=wget-3.2-py3-none-any.whl size=9712 sha256=9cd63f2eaa53c4273382d682d43f4a9b47ff57ca211a05f0cdfb79ec6aa890c6\n",
      "  Stored in directory: c:\\users\\rt2332in\\appdata\\local\\pip\\cache\\wheels\\8a\\b8\\04\\0c88fb22489b0c049bee4e977c5689c7fe597d6c4b0e7d0b6a\n",
      "Successfully built wget\n",
      "Installing collected packages: wget\n",
      "Successfully installed wget-3.2\n",
      "Note: you may need to restart the kernel to use updated packages.\n"
     ]
    }
   ],
   "source": [
    "%pip install wget"
   ]
  },
  {
   "cell_type": "code",
   "execution_count": 3,
   "id": "fa98555b-a2ed-4661-b464-ffb168137e57",
   "metadata": {},
   "outputs": [],
   "source": [
    "import wget"
   ]
  },
  {
   "cell_type": "markdown",
   "id": "8f031548-08e9-4f1c-b2c3-74e106bc6237",
   "metadata": {},
   "source": [
    "# How to download and unzip a CSV file\n",
    "\n",
    "1. Get and save the URL,\n",
    "2. Use `requests.get` to get the content,\n",
    "3. Open the content inside of `with` and the `ZipFile` content, and\n",
    "4. Use the `extract` method to unzip the content."
   ]
  },
  {
   "cell_type": "markdown",
   "id": "a7225299-bd44-4f1a-9fb4-f67d91225842",
   "metadata": {},
   "source": [
    "## Example - A smaller City Bile file using `wget`"
   ]
  },
  {
   "cell_type": "code",
   "execution_count": 4,
   "id": "72824a2a-c95b-4d7a-9aec-5ba44a8e9a54",
   "metadata": {},
   "outputs": [
    {
     "data": {
      "text/plain": [
       "[]"
      ]
     },
     "execution_count": 4,
     "metadata": {},
     "output_type": "execute_result"
    }
   ],
   "source": [
    "glob('data/*')"
   ]
  },
  {
   "cell_type": "markdown",
   "id": "63d89252-116a-4381-80bf-b9efb85f15b4",
   "metadata": {},
   "source": [
    "#### Step 1 - Download the file."
   ]
  },
  {
   "cell_type": "code",
   "execution_count": 11,
   "id": "fb28d142-851d-4930-b29e-e5dc9ca97e6b",
   "metadata": {},
   "outputs": [
    {
     "ename": "FileNotFoundError",
     "evalue": "[WinError 3] The system cannot find the path specified",
     "output_type": "error",
     "traceback": [
      "\u001b[31m---------------------------------------------------------------------------\u001b[39m",
      "\u001b[31mFileNotFoundError\u001b[39m                         Traceback (most recent call last)",
      "\u001b[36mFile \u001b[39m\u001b[32m~\\AppData\\Local\\anaconda3\\envs\\polars\\Lib\\shutil.py:856\u001b[39m, in \u001b[36mmove\u001b[39m\u001b[34m(src, dst, copy_function)\u001b[39m\n\u001b[32m    855\u001b[39m \u001b[38;5;28;01mtry\u001b[39;00m:\n\u001b[32m--> \u001b[39m\u001b[32m856\u001b[39m     \u001b[43mos\u001b[49m\u001b[43m.\u001b[49m\u001b[43mrename\u001b[49m\u001b[43m(\u001b[49m\u001b[43msrc\u001b[49m\u001b[43m,\u001b[49m\u001b[43m \u001b[49m\u001b[43mreal_dst\u001b[49m\u001b[43m)\u001b[49m\n\u001b[32m    857\u001b[39m \u001b[38;5;28;01mexcept\u001b[39;00m \u001b[38;5;167;01mOSError\u001b[39;00m:\n",
      "\u001b[31mFileNotFoundError\u001b[39m: [WinError 3] The system cannot find the path specified: 'C:\\\\Users\\\\rt2332in\\\\OneDrive - Minnesota State\\\\Documents\\\\DSCI326\\\\./datan4a0o5np.tmp' -> ' (1)./data'",
      "\nDuring handling of the above exception, another exception occurred:\n",
      "\u001b[31mFileNotFoundError\u001b[39m                         Traceback (most recent call last)",
      "\u001b[36mCell\u001b[39m\u001b[36m \u001b[39m\u001b[32mIn[11]\u001b[39m\u001b[32m, line 5\u001b[39m\n\u001b[32m      1\u001b[39m url = \u001b[33m\"\u001b[39m\u001b[33mhttps://s3.amazonaws.com/tripdata/JC-202507-citibike-tripdata.csv.zip\u001b[39m\u001b[33m\"\u001b[39m\n\u001b[32m      2\u001b[39m zip_path = \u001b[33mr\u001b[39m\u001b[33m'\u001b[39m\u001b[33m./data/DSCI326.zip\u001b[39m\u001b[33m'\u001b[39m\n\u001b[32m      4\u001b[39m (zip_path :=\n\u001b[32m----> \u001b[39m\u001b[32m5\u001b[39m  \u001b[43mwget\u001b[49m\u001b[43m.\u001b[49m\u001b[43mdownload\u001b[49m\u001b[43m(\u001b[49m\u001b[43murl\u001b[49m\u001b[43m,\u001b[49m\u001b[43m \u001b[49m\u001b[43mout\u001b[49m\u001b[43m=\u001b[49m\u001b[33;43m'\u001b[39;49m\u001b[33;43m./data\u001b[39;49m\u001b[33;43m'\u001b[39;49m\u001b[43m)\u001b[49m\n\u001b[32m      6\u001b[39m )\n",
      "\u001b[36mFile \u001b[39m\u001b[32m~\\AppData\\Local\\anaconda3\\envs\\polars\\Lib\\site-packages\\wget.py:534\u001b[39m, in \u001b[36mdownload\u001b[39m\u001b[34m(url, out, bar)\u001b[39m\n\u001b[32m    532\u001b[39m \u001b[38;5;28;01mif\u001b[39;00m os.path.exists(filename):\n\u001b[32m    533\u001b[39m     filename = filename_fix_existing(filename)\n\u001b[32m--> \u001b[39m\u001b[32m534\u001b[39m \u001b[43mshutil\u001b[49m\u001b[43m.\u001b[49m\u001b[43mmove\u001b[49m\u001b[43m(\u001b[49m\u001b[43mtmpfile\u001b[49m\u001b[43m,\u001b[49m\u001b[43m \u001b[49m\u001b[43mfilename\u001b[49m\u001b[43m)\u001b[49m\n\u001b[32m    536\u001b[39m \u001b[38;5;66;03m#print headers\u001b[39;00m\n\u001b[32m    537\u001b[39m \u001b[38;5;28;01mreturn\u001b[39;00m filename\n",
      "\u001b[36mFile \u001b[39m\u001b[32m~\\AppData\\Local\\anaconda3\\envs\\polars\\Lib\\shutil.py:876\u001b[39m, in \u001b[36mmove\u001b[39m\u001b[34m(src, dst, copy_function)\u001b[39m\n\u001b[32m    874\u001b[39m         rmtree(src)\n\u001b[32m    875\u001b[39m     \u001b[38;5;28;01melse\u001b[39;00m:\n\u001b[32m--> \u001b[39m\u001b[32m876\u001b[39m         \u001b[43mcopy_function\u001b[49m\u001b[43m(\u001b[49m\u001b[43msrc\u001b[49m\u001b[43m,\u001b[49m\u001b[43m \u001b[49m\u001b[43mreal_dst\u001b[49m\u001b[43m)\u001b[49m\n\u001b[32m    877\u001b[39m         os.unlink(src)\n\u001b[32m    878\u001b[39m \u001b[38;5;28;01mreturn\u001b[39;00m real_dst\n",
      "\u001b[36mFile \u001b[39m\u001b[32m~\\AppData\\Local\\anaconda3\\envs\\polars\\Lib\\shutil.py:453\u001b[39m, in \u001b[36mcopy2\u001b[39m\u001b[34m(src, dst, follow_symlinks)\u001b[39m\n\u001b[32m    451\u001b[39m     flags |= _winapi.COPY_FILE_COPY_SYMLINK\n\u001b[32m    452\u001b[39m \u001b[38;5;28;01mtry\u001b[39;00m:\n\u001b[32m--> \u001b[39m\u001b[32m453\u001b[39m     \u001b[43m_winapi\u001b[49m\u001b[43m.\u001b[49m\u001b[43mCopyFile2\u001b[49m\u001b[43m(\u001b[49m\u001b[43msrc_\u001b[49m\u001b[43m,\u001b[49m\u001b[43m \u001b[49m\u001b[43mdst_\u001b[49m\u001b[43m,\u001b[49m\u001b[43m \u001b[49m\u001b[43mflags\u001b[49m\u001b[43m)\u001b[49m\n\u001b[32m    454\u001b[39m     \u001b[38;5;28;01mreturn\u001b[39;00m dst\n\u001b[32m    455\u001b[39m \u001b[38;5;28;01mexcept\u001b[39;00m \u001b[38;5;167;01mOSError\u001b[39;00m \u001b[38;5;28;01mas\u001b[39;00m exc:\n",
      "\u001b[31mFileNotFoundError\u001b[39m: [WinError 3] The system cannot find the path specified"
     ]
    }
   ],
   "source": [
    "url = \"https://s3.amazonaws.com/tripdata/JC-202507-citibike-tripdata.csv.zip\"\n",
    "zip_path = r'./data/DSCI326.zip'\n",
    "\n",
    "(zip_path :=\n",
    " wget.download(url, out='data')\n",
    ")"
   ]
  },
  {
   "cell_type": "markdown",
   "id": "b382ffcd-fdf8-4375-beb4-4813f3520578",
   "metadata": {},
   "source": [
    "#### Step 2 - Unzip"
   ]
  },
  {
   "cell_type": "code",
   "execution_count": 9,
   "id": "98332da9-fdbc-4b73-ad73-5642f9d45add",
   "metadata": {},
   "outputs": [
    {
     "ename": "FileNotFoundError",
     "evalue": "[Errno 2] No such file or directory: './data/DSCI326.zip'",
     "output_type": "error",
     "traceback": [
      "\u001b[31m---------------------------------------------------------------------------\u001b[39m",
      "\u001b[31mFileNotFoundError\u001b[39m                         Traceback (most recent call last)",
      "\u001b[36mCell\u001b[39m\u001b[36m \u001b[39m\u001b[32mIn[9]\u001b[39m\u001b[32m, line 1\u001b[39m\n\u001b[32m----> \u001b[39m\u001b[32m1\u001b[39m \u001b[38;5;28;01mwith\u001b[39;00m \u001b[43mZipFile\u001b[49m\u001b[43m(\u001b[49m\u001b[43mzip_path\u001b[49m\u001b[43m,\u001b[49m\u001b[43m \u001b[49m\u001b[33;43m'\u001b[39;49m\u001b[33;43mr\u001b[39;49m\u001b[33;43m'\u001b[39;49m\u001b[43m)\u001b[49m \u001b[38;5;28;01mas\u001b[39;00m z:\n\u001b[32m      2\u001b[39m     z.extractall(\u001b[33m\"\u001b[39m\u001b[33m./data\u001b[39m\u001b[33m\"\u001b[39m)\n",
      "\u001b[36mFile \u001b[39m\u001b[32m~\\AppData\\Local\\anaconda3\\envs\\polars\\Lib\\zipfile\\__init__.py:1367\u001b[39m, in \u001b[36mZipFile.__init__\u001b[39m\u001b[34m(self, file, mode, compression, allowZip64, compresslevel, strict_timestamps, metadata_encoding)\u001b[39m\n\u001b[32m   1365\u001b[39m \u001b[38;5;28;01mwhile\u001b[39;00m \u001b[38;5;28;01mTrue\u001b[39;00m:\n\u001b[32m   1366\u001b[39m     \u001b[38;5;28;01mtry\u001b[39;00m:\n\u001b[32m-> \u001b[39m\u001b[32m1367\u001b[39m         \u001b[38;5;28mself\u001b[39m.fp = \u001b[43mio\u001b[49m\u001b[43m.\u001b[49m\u001b[43mopen\u001b[49m\u001b[43m(\u001b[49m\u001b[43mfile\u001b[49m\u001b[43m,\u001b[49m\u001b[43m \u001b[49m\u001b[43mfilemode\u001b[49m\u001b[43m)\u001b[49m\n\u001b[32m   1368\u001b[39m     \u001b[38;5;28;01mexcept\u001b[39;00m \u001b[38;5;167;01mOSError\u001b[39;00m:\n\u001b[32m   1369\u001b[39m         \u001b[38;5;28;01mif\u001b[39;00m filemode \u001b[38;5;129;01min\u001b[39;00m modeDict:\n",
      "\u001b[31mFileNotFoundError\u001b[39m: [Errno 2] No such file or directory: './data/DSCI326.zip'"
     ]
    }
   ],
   "source": [
    "with ZipFile(zip_path, 'r') as z:\n",
    "    z.extractall(\"./data\")"
   ]
  },
  {
   "cell_type": "code",
   "execution_count": null,
   "id": "b08b4a98-f04e-4f63-9b3c-92f58fc08eb8",
   "metadata": {},
   "outputs": [],
   "source": [
    "glob('data/*')"
   ]
  },
  {
   "cell_type": "code",
   "execution_count": null,
   "id": "66635e18-0225-4b61-9cfa-e7324a44eb71",
   "metadata": {},
   "outputs": [],
   "source": []
  }
 ],
 "metadata": {
  "kernelspec": {
   "display_name": "Python 3 (ipykernel)",
   "language": "python",
   "name": "python3"
  },
  "language_info": {
   "codemirror_mode": {
    "name": "ipython",
    "version": 3
   },
   "file_extension": ".py",
   "mimetype": "text/x-python",
   "name": "python",
   "nbconvert_exporter": "python",
   "pygments_lexer": "ipython3",
   "version": "3.13.5"
  }
 },
 "nbformat": 4,
 "nbformat_minor": 5
}
